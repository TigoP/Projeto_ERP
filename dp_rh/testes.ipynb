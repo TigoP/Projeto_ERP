{
 "cells": [
  {
   "cell_type": "code",
   "execution_count": 1,
   "metadata": {},
   "outputs": [
    {
     "data": {
      "text/plain": [
       "619.85"
      ]
     },
     "execution_count": 1,
     "metadata": {},
     "output_type": "execute_result"
    }
   ],
   "source": [
    "def calcular_inss(sal_base):\n",
    "    if sal_base <= 1412.00:\n",
    "        return sal_base * 0.075\n",
    "    elif sal_base > 1412.00 and sal_base <= 2666.68:\n",
    "        return (round(1412.00 * 0.075 + (sal_base - 1412.00)*0.09, 2))\n",
    "    elif sal_base > 2666.68 and sal_base <= 4000.03:\n",
    "        return (round(1412.00 * 0.075 + (2666.68 - 1412.00)*0.09 + (sal_base - 2666.68)*0.12, 2))\n",
    "    else:\n",
    "        return (round(1412.00 * 0.075 + (2666.68 - 1412.00)*0.09 + (4000.03 - 2666.68)*0.12 + (sal_base - 4000.03)*0.14 , 2))    \n",
    "    \n",
    "calcular_inss(5721.68)"
   ]
  }
 ],
 "metadata": {
  "kernelspec": {
   "display_name": "venv",
   "language": "python",
   "name": "python3"
  },
  "language_info": {
   "codemirror_mode": {
    "name": "ipython",
    "version": 3
   },
   "file_extension": ".py",
   "mimetype": "text/x-python",
   "name": "python",
   "nbconvert_exporter": "python",
   "pygments_lexer": "ipython3",
   "version": "3.12.3"
  }
 },
 "nbformat": 4,
 "nbformat_minor": 2
}
